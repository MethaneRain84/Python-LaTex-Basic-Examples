{
 "cells": [
  {
   "cell_type": "code",
   "execution_count": 39,
   "metadata": {
    "collapsed": false
   },
   "outputs": [
    {
     "data": {
      "text/latex": [
       "\n",
       "\\begin{align}\n",
       "\\nabla \\times \\vec{\\mathbf{B}} -\\, \\frac1c\\, \\frac{\\partial\\vec{\\mathbf{E}}}{\\partial t} & = \\frac{4\\pi}{c}\\vec{\\mathbf{j}} \\\\   \n",
       "\\nabla \\cdot \\vec{\\mathbf{E}} & = 4 \\pi \\rho \\\\\n",
       "\\nabla \\times \\vec{\\mathbf{E}}\\, +\\, \\frac1c\\, \\frac{\\partial\\vec{\\mathbf{B}}}{\\partial t} & = \\vec{\\mathbf{0}} \\\\\n",
       "\\nabla \\cdot \\vec{\\mathbf{B}} & = 0\n",
       "\\end{align}"
      ],
      "text/plain": [
       "<IPython.core.display.Latex object>"
      ]
     },
     "metadata": {},
     "output_type": "display_data"
    }
   ],
   "source": [
    "%%latex\n",
    "\n",
    "\\begin{align}\n",
    "\\nabla \\times \\vec{\\mathbf{B}} -\\, \\frac1c\\, \\frac{\\partial\\vec{\\mathbf{E}}}{\\partial t} & = \\frac{4\\pi}{c}\\vec{\\mathbf{j}} \\\\   \n",
    "\\nabla \\cdot \\vec{\\mathbf{E}} & = 4 \\pi \\rho \\\\\n",
    "\\nabla \\times \\vec{\\mathbf{E}}\\, +\\, \\frac1c\\, \\frac{\\partial\\vec{\\mathbf{B}}}{\\partial t} & = \\vec{\\mathbf{0}} \\\\\n",
    "\\nabla \\cdot \\vec{\\mathbf{B}} & = 0\n",
    "\\end{align}"
   ]
  },
  {
   "cell_type": "code",
   "execution_count": 22,
   "metadata": {
    "collapsed": false
   },
   "outputs": [
    {
     "data": {
      "text/latex": [
       "\\begin{align}\n",
       "\\vec{x_{f}} & = \\vec{x_{o}} +\\ \\vec{v_{ox}}t\n",
       "\\end{align}\n",
       "\n",
       "\\begin{align}\n",
       "\\vec{y_{f}} & = \\vec{y_{o}} +\\ \\vec{v_{oy}}t -\\ \\frac{1}2\\vec{a_{y}}t^{2}\n",
       "\\end{align}\n",
       "\n",
       "\\begin{align}\n",
       "\\end{align}\n",
       "\n",
       "\\begin{align}\n",
       "\\vec{v_{fy}} & = \\vec{v_{oy}} +\\ \\vec{a_{y}}t\n",
       "\\end{align}\n",
       "\n",
       "\\begin{align}\n",
       "\\vec{v_{fx}} & = \\vec{v_{ox}}\n",
       "\\end{align}\n",
       "\n",
       "\\begin{align}\n",
       "\\end{align}\n",
       "\n",
       "\\begin{align}\n",
       "(v_{fy})^{2} & = (v_{oy})^{2} +\\ 2a_{y}x\n",
       "\\end{align}\n",
       "\n",
       "\\begin{align}\n",
       "(v_{fx})^{2} & = (v_{ox})^{2}\n",
       "\\end{align}\n",
       "\n",
       "\\begin{align}\n",
       "\\end{align}\n",
       "\n",
       "\\begin{align}\n",
       "y(x) & = tan(\\theta)x -\\ (\\frac{g}{2(v_{o})^{2}cos^{2}(\\theta)})x^{2}\n",
       "\\end{align}"
      ],
      "text/plain": [
       "<IPython.core.display.Latex object>"
      ]
     },
     "metadata": {},
     "output_type": "display_data"
    }
   ],
   "source": [
    "%%latex\n",
    "\\begin{align}\n",
    "\\vec{x_{f}} & = \\vec{x_{o}} +\\ \\vec{v_{ox}}t\n",
    "\\end{align}\n",
    "\n",
    "\\begin{align}\n",
    "\\vec{y_{f}} & = \\vec{y_{o}} +\\ \\vec{v_{oy}}t -\\ \\frac{1}2\\vec{a_{y}}t^{2}\n",
    "\\end{align}\n",
    "\n",
    "\\begin{align}\n",
    "\\end{align}\n",
    "\n",
    "\\begin{align}\n",
    "\\vec{v_{fy}} & = \\vec{v_{oy}} +\\ \\vec{a_{y}}t\n",
    "\\end{align}\n",
    "\n",
    "\\begin{align}\n",
    "\\vec{v_{fx}} & = \\vec{v_{ox}}\n",
    "\\end{align}\n",
    "\n",
    "\\begin{align}\n",
    "\\end{align}\n",
    "\n",
    "\\begin{align}\n",
    "(v_{fy})^{2} & = (v_{oy})^{2} +\\ 2a_{y}x\n",
    "\\end{align}\n",
    "\n",
    "\\begin{align}\n",
    "(v_{fx})^{2} & = (v_{ox})^{2}\n",
    "\\end{align}\n",
    "\n",
    "\\begin{align}\n",
    "\\end{align}\n",
    "\n",
    "\\begin{align}\n",
    "y(x) & = tan(\\theta)x -\\ (\\frac{g}{2(v_{o})^{2}cos^{2}(\\theta)})x^{2}\n",
    "\\end{align}"
   ]
  },
  {
   "cell_type": "code",
   "execution_count": 23,
   "metadata": {
    "collapsed": false
   },
   "outputs": [
    {
     "data": {
      "text/latex": [
       "$$F(k) = \\int_{-\\infty}^{\\infty} f(x) e^{2\\pi i k} dx$$"
      ],
      "text/plain": [
       "<IPython.core.display.Math object>"
      ]
     },
     "metadata": {},
     "output_type": "display_data"
    }
   ],
   "source": [
    "from IPython.display import display, Math, Latex\n",
    "display(Math(r'F(k) = \\int_{-\\infty}^{\\infty} f(x) e^{2\\pi i k} dx'))"
   ]
  },
  {
   "cell_type": "code",
   "execution_count": null,
   "metadata": {
    "collapsed": true
   },
   "outputs": [],
   "source": []
  },
  {
   "cell_type": "code",
   "execution_count": null,
   "metadata": {
    "collapsed": true
   },
   "outputs": [],
   "source": []
  },
  {
   "cell_type": "code",
   "execution_count": null,
   "metadata": {
    "collapsed": true
   },
   "outputs": [],
   "source": []
  },
  {
   "cell_type": "markdown",
   "metadata": {
    "collapsed": false
   },
   "source": [
    "import plotly.plotly as py\n",
    "from plotly.tools import FigureFactory as FF\n",
    "\n",
    "import numpy as np\n",
    "\n",
    "t = np.linspace(-1, 1.2, 2000)\n",
    "x = (t**3) + (0.3 * np.random.randn(2000))\n",
    "y = (t**6) + (0.3 * np.random.randn(2000))\n",
    "\n",
    "colorscale = ['#7A4579', '#D56073', 'rgb(236,158,105)', (1, 1, 0.2), (0.98,0.98,0.98)]\n",
    "\n",
    "fig = FF.create_2D_density(\n",
    "    x, y, colorscale=colorscale,\n",
    "    hist_color='rgb(255, 237, 222)', point_size=3\n",
    ")\n",
    "\n",
    "py.iplot(fig, filename='histogram_subplots')"
   ]
  },
  {
   "cell_type": "code",
   "execution_count": null,
   "metadata": {
    "collapsed": true
   },
   "outputs": [],
   "source": []
  }
 ],
 "metadata": {
  "kernelspec": {
   "display_name": "Python 2",
   "language": "python",
   "name": "python2"
  },
  "language_info": {
   "codemirror_mode": {
    "name": "ipython",
    "version": 2
   },
   "file_extension": ".py",
   "mimetype": "text/x-python",
   "name": "python",
   "nbconvert_exporter": "python",
   "pygments_lexer": "ipython2",
   "version": "2.7.12"
  }
 },
 "nbformat": 4,
 "nbformat_minor": 0
}
